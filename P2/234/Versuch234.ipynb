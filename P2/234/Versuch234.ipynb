{
 "cells": [
  {
   "cell_type": "code",
   "execution_count": 59,
   "metadata": {},
   "outputs": [
    {
     "data": {
      "image/png": "[encoded data removed]",
      "text/latex": [
       "$\\displaystyle 0.000243651879950015$"
      ],
      "text/plain": [
       "0.00024365187995001455"
      ]
     },
     "execution_count": 59,
     "metadata": {},
     "output_type": "execute_result"
    }
   ],
   "source": [
    "import sympy as sp\n",
    "import numpy as np\n",
    "from typing import List\n",
    "\n",
    "def calcErr(f: sp.Expr, values: List[float], errorL: List[float]) -> Tuple[sp.Function, float]:\n",
    "    \"\"\"\n",
    "    Calculate error using Gaussian error propagation.\n",
    "    \n",
    "    Parameters:\n",
    "    -----------\n",
    "    f : sympy.Expr\n",
    "        Symbolic function for which error needs to be calculated\n",
    "    values : List[float]\n",
    "        List of values for each variable in the function\n",
    "    errorL : List[float]\n",
    "        List of uncertainties for each variable in the function\n",
    "        \n",
    "    Returns:\n",
    "    --------\n",
    "    Tuple[sp.Function, float]\n",
    "        - Symbolic error propagation function\n",
    "        - Numerical result of error calculation\n",
    "    \"\"\"\n",
    "    # Get variables in the function\n",
    "    vars = list(f.free_symbols)\n",
    "    \n",
    "    if not (len(vars) == len(errorL) == len(values)):\n",
    "        raise ValueError(\"Number of values and errors must match number of variables in function\")\n",
    "    \n",
    "    # Create symbolic error variables\n",
    "    error_symbols = [sp.Symbol(f'Δ{var}') for var in vars]\n",
    "    \n",
    "    # Create symbolic error propagation function\n",
    "    error_expr = sp.sqrt(sum((sp.diff(f, var) * err)**2 \n",
    "                           for var, err in zip(vars, error_symbols)))\n",
    "    # Convert to sp.Function\n",
    "    error_func = sp.Function('σ')(*error_symbols)\n",
    "    \n",
    "    error_func = error_func.subs(error_func, error_expr)\n",
    "    \n",
    "    # Print the symbolic error propagation function\n",
    "    # print(\"\\nSymbolic error propagation function:\")\n",
    "    # print(f\"{error_func.simplify()}\")\n",
    "    \n",
    "    # Calculate numerical result using the provided values\n",
    "    numerical_error = error_expr.subs(dict(zip(error_symbols, errorL)))\n",
    "    result = float(numerical_error.evalf(subs=dict(zip(vars, values))))\n",
    "    \n",
    "    return result\n",
    "\n",
    "def find_error_func(f: sp.Expr) -> sp.Function:\n",
    "    \"\"\"\n",
    "    Creates symbolic error propagation function for given function f.\n",
    "    \n",
    "    Parameters:\n",
    "    -----------\n",
    "    f : sympy.Expr\n",
    "        Symbolic function for which error propagation function is needed\n",
    "        \n",
    "    Returns:\n",
    "    --------\n",
    "    sp.Function\n",
    "        Symbolic error propagation function\n",
    "    \"\"\"\n",
    "    # Get variables in the function\n",
    "    vars = list(f.free_symbols)\n",
    "    \n",
    "    # Create symbolic error variables\n",
    "    error_symbols = [sp.Symbol(f'Δ{var}') for var in vars]\n",
    "    \n",
    "    # Create symbolic error propagation function\n",
    "    error_expr = sp.sqrt(sum((sp.diff(f, var) * err)**2 \n",
    "                           for var, err in zip(vars, error_symbols)))\n",
    "    \n",
    "    # Convert to sp.Function\n",
    "    error_func = sp.Function('σ')(*error_symbols)\n",
    "    error_func = error_func.subs(error_func, error_expr)\n",
    "    \n",
    "    return error_func\n",
    "\n",
    "def b():\n",
    "    \n",
    "    L1, R2, RB, R1, RA = sp.symbols('L_1 R_2 R_B R_1 R_A')\n",
    "    values = [20, 40, 1000, 32, 20]\n",
    "    errors = [0.001, 0.002, 0.03, 0.0234, 0.01235]\n",
    "    \n",
    "    L2 = L1 * (R2 - RB) / (R1 + RA)\n",
    "    return calcErr(L2, values, errors)\n",
    "    \n",
    "\n",
    "b()\n"
   ]
  }
 ],
 "metadata": {
  "kernelspec": {
   "display_name": "Python 3",
   "language": "python",
   "name": "python3"
  },
  "language_info": {
   "codemirror_mode": {
    "name": "ipython",
    "version": 3
   },
   "file_extension": ".py",
   "mimetype": "text/x-python",
   "name": "python",
   "nbconvert_exporter": "python",
   "pygments_lexer": "ipython3",
   "version": "3.10.12"
  }
 },
 "nbformat": 4,
 "nbformat_minor": 2
}
