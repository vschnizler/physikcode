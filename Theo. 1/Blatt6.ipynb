{
 "cells": [
  {
   "cell_type": "code",
   "execution_count": 2,
   "metadata": {},
   "outputs": [
    {
     "data": {
      "text/latex": [
       "$\\displaystyle \\left[\\begin{matrix}- m \\left(\\frac{\\sin{\\left(2 \\operatorname{ \\Theta}{\\left(t \\right)} - \\phi{\\left(t \\right)} \\right)} \\frac{d}{d t} \\phi{\\left(t \\right)}}{4} + \\frac{\\sin{\\left(2 \\operatorname{ \\Theta}{\\left(t \\right)} + \\phi{\\left(t \\right)} \\right)} \\frac{d}{d t} \\phi{\\left(t \\right)}}{4} + \\sin{\\left(\\phi{\\left(t \\right)} \\right)} \\frac{d}{d t} \\operatorname{ \\Theta}{\\left(t \\right)}\\right) r^{2}{\\left(t \\right)}\\\\m \\left(- \\frac{\\cos{\\left(2 \\operatorname{ \\Theta}{\\left(t \\right)} - \\phi{\\left(t \\right)} \\right)} \\frac{d}{d t} \\phi{\\left(t \\right)}}{4} + \\frac{\\cos{\\left(2 \\operatorname{ \\Theta}{\\left(t \\right)} + \\phi{\\left(t \\right)} \\right)} \\frac{d}{d t} \\phi{\\left(t \\right)}}{4} + \\cos{\\left(\\phi{\\left(t \\right)} \\right)} \\frac{d}{d t} \\operatorname{ \\Theta}{\\left(t \\right)}\\right) r^{2}{\\left(t \\right)}\\\\m r^{2}{\\left(t \\right)} \\sin^{2}{\\left(\\operatorname{ \\Theta}{\\left(t \\right)} \\right)} \\frac{d}{d t} \\phi{\\left(t \\right)}\\end{matrix}\\right]$"
      ],
      "text/plain": [
       "Matrix([\n",
       "[-m*(sin(2* \\Theta(t) - \\phi(t))*Derivative(\\phi(t), t)/4 + sin(2* \\Theta(t) + \\phi(t))*Derivative(\\phi(t), t)/4 + sin(\\phi(t))*Derivative( \\Theta(t), t))*r(t)**2],\n",
       "[m*(-cos(2* \\Theta(t) - \\phi(t))*Derivative(\\phi(t), t)/4 + cos(2* \\Theta(t) + \\phi(t))*Derivative(\\phi(t), t)/4 + cos(\\phi(t))*Derivative( \\Theta(t), t))*r(t)**2],\n",
       "[                                                                                                              m*r(t)**2*sin( \\Theta(t))**2*Derivative(\\phi(t), t)]])"
      ]
     },
     "execution_count": 2,
     "metadata": {},
     "output_type": "execute_result"
    }
   ],
   "source": [
    "import sympy as sym\n",
    "\n",
    "v1, v2, v3, t, m = sym.symbols('v1 v2 v3 t m')\n",
    "\n",
    "r = sym.Function('r')(t)\n",
    "theta = sym.Function(' \\Theta')(t)\n",
    "phi = sym.Function('\\phi')(t)\n",
    "\n",
    "f1 = r*sym.sin(theta)*sym.cos(phi)\n",
    "f2 = r*sym.sin(theta)*sym.sin(phi)\n",
    "f3 = r*sym.cos(theta)\n",
    "\n",
    "x = sym.ImmutableDenseMatrix([f1, f2, f3])\n",
    "v = sym.ImmutableDenseMatrix([v1, v2, v3])\n",
    "J_f = x.jacobian([r, theta, phi])\n",
    "Dmg1 = [1, 0, 0]\n",
    "Dmg2 = [0, r**2, 0]\n",
    "Dmg3 = [0, 0, (r*sym.sin(theta))**2]\n",
    "Dmg = sym.Matrix([Dmg1, Dmg2, Dmg3])\n",
    "\n",
    "G = (J_f * v).dot(J_f * v)\n",
    "\n",
    "Gb = (Dmg * v).dot(Dmg * v)\n",
    "\n",
    "x_sphere_dot = x.diff(t)\n",
    "x_sphere_dot\n",
    "T_sphere = sym.Rational(1, 2) * m * x_sphere_dot.dot(x_sphere_dot)\n",
    "\n",
    "L_sphere = m * x.cross(x_sphere_dot)\n",
    "test = x.cross(x_sphere_dot)\n",
    "T_sphere.simplify()\n",
    "g, l = sym.symbols('g l')\n",
    "\n",
    "vtheta = theta.diff(t)\n",
    "vphi = phi.diff(t)\n",
    "\n",
    "L = sym.Function('L')(vphi, vtheta, theta, phi)\n",
    "L = sym.Rational(1, 2) * m * (l**2 *(sym.sin(theta)**2 *vphi + vtheta)) - m*g*l*sym.cos(theta)\n",
    "Lvtheta = L.diff(vtheta)\n",
    "Lvphi = L.diff(vphi)\n",
    "rsum = (Lvtheta + Lvphi).diff(t)\n",
    "\n",
    "Ltheta = L.diff(theta)\n",
    "Lphi = L.diff(phi)\n",
    "lsum = (Ltheta + Lphi)\n",
    "\n",
    "L_sphere.simplify()"
   ]
  }
 ],
 "metadata": {
  "kernelspec": {
   "display_name": "Python 3",
   "language": "python",
   "name": "python3"
  },
  "language_info": {
   "codemirror_mode": {
    "name": "ipython",
    "version": 3
   },
   "file_extension": ".py",
   "mimetype": "text/x-python",
   "name": "python",
   "nbconvert_exporter": "python",
   "pygments_lexer": "ipython3",
   "version": "3.10.12"
  }
 },
 "nbformat": 4,
 "nbformat_minor": 2
}
